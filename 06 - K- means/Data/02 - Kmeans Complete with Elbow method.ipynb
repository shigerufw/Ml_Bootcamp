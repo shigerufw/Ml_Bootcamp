{
 "cells": [
  {
   "cell_type": "markdown",
   "metadata": {},
   "source": [
    "### imports"
   ]
  },
  {
   "cell_type": "code",
   "execution_count": 2,
   "metadata": {},
   "outputs": [],
   "source": [
    "import matplotlib.pyplot as plt\n",
    "import pandas as pd\n",
    "import numpy as np\n",
    "import seaborn as sns\n",
    "%matplotlib inline"
   ]
  },
  {
   "cell_type": "markdown",
   "metadata": {},
   "source": [
    "### creating datapoints"
   ]
  },
  {
   "cell_type": "code",
   "execution_count": 3,
   "metadata": {},
   "outputs": [],
   "source": [
    "from sklearn.datasets import make_blobs"
   ]
  },
  {
   "cell_type": "code",
   "execution_count": 13,
   "metadata": {},
   "outputs": [],
   "source": [
    "X,y = make_blobs(n_samples = 200,\n",
    "                 n_features = 8,\n",
    "                 centers = 4,\n",
    "                 cluster_std= 1.0,\n",
    "                 shuffle = True,\n",
    "                 random_state = 101)"
   ]
  },
  {
   "cell_type": "code",
   "execution_count": 7,
   "metadata": {},
   "outputs": [
    {
     "data": {
      "text/plain": [
       "array([[ -5.90839021,   1.41031774,  -4.21827226],\n",
       "       [  2.26790487,   0.40816482, -10.17230518],\n",
       "       [ -5.10402695,   7.5055804 ,   5.02021361],\n",
       "       [ -5.45984626,   5.80342524,   5.94062425],\n",
       "       [ -4.26169239,   6.09279118,   4.40818558],\n",
       "       [ -2.10255386,   8.17930747,   4.96080417],\n",
       "       [ -5.10944516,   1.59589566,  -2.81274213],\n",
       "       [ -4.7027421 ,   7.04109984,   3.93693592],\n",
       "       [ -4.76204547,   0.73525654,  -4.03030872],\n",
       "       [ -6.4220804 ,   2.9760733 ,   5.9578275 ],\n",
       "       [ -4.07493359,   8.19725732,   3.41150318],\n",
       "       [ -0.08134593,   1.75689092,  -9.23424015],\n",
       "       [ -6.55438533,   1.66562213,  -3.35056023],\n",
       "       [ -6.20953239,   0.1393275 ,  -2.33108844],\n",
       "       [ -7.59438507,   0.31656413,  -1.76233566],\n",
       "       [  0.7185004 ,   1.58025637,  -9.24601361],\n",
       "       [ -7.14994986,   4.91456692,   7.87968128],\n",
       "       [ -0.75249891,   2.31574949,  -9.26873428],\n",
       "       [ -5.24785153,   4.49966814,   8.03764923],\n",
       "       [  0.51876688,   3.39210906,  -6.82454819],\n",
       "       [  0.51509708,   0.68050659, -10.81343557],\n",
       "       [ -6.48165372,   2.09908489,  -2.04044513],\n",
       "       [  2.22972735,   1.6514787 ,  -7.43386319],\n",
       "       [ -7.58307164,   1.61314316,  -3.91606554],\n",
       "       [ -6.65886532,   4.40410604,   5.26881157],\n",
       "       [ -5.8925624 ,   0.14888112,  -2.01611613],\n",
       "       [ -6.90248768,   2.77693736,   8.39388742],\n",
       "       [ -0.44335605,   1.52382915, -10.23516698],\n",
       "       [ -4.90902294,   6.5909413 ,   5.70760869],\n",
       "       [  1.32054601,   2.60559237, -10.47729501],\n",
       "       [ -2.80231868,   9.72722876,   4.93312757],\n",
       "       [  0.52875302,   1.74119648,  -8.75603028],\n",
       "       [ -5.13029855,   1.02363701,  -2.48581133],\n",
       "       [ -3.7751468 ,   5.98845287,   3.11673506],\n",
       "       [ -5.25072744,   0.77811672,  -2.09560676],\n",
       "       [  0.15391601,   2.19349145,  -9.8137736 ],\n",
       "       [ -6.48804352,   3.29034852,   6.73159871],\n",
       "       [ -3.73458987,   8.33830574,   4.29506473],\n",
       "       [ -3.05484115,   7.83554983,   5.46808872],\n",
       "       [ -5.13780428,   0.4845114 ,  -4.11841397],\n",
       "       [ -0.53891248,   2.13413934, -10.65359751],\n",
       "       [ -7.57498388,  -1.50170828,  -3.61955486],\n",
       "       [ -5.53765102,   2.62442136,   6.67758229],\n",
       "       [ -1.37811338,   0.25423232,  -9.56535619],\n",
       "       [ -8.4775757 ,   3.32543613,   5.01187807],\n",
       "       [ -6.70999871,   3.8246846 ,   7.34365184],\n",
       "       [ -6.66798066,   1.52485812,  -2.37649674],\n",
       "       [ -7.62441747,   5.87096075,   5.41069708],\n",
       "       [ -6.3033601 ,   4.1181198 ,   7.6667101 ],\n",
       "       [ -6.47193404,  -1.05148341,  -1.06522416],\n",
       "       [ -2.47407626,   8.43123916,   3.74441101],\n",
       "       [ -6.86800262,   3.73468111,   7.56696814],\n",
       "       [ -5.66674102,   3.16763048,   5.12826615],\n",
       "       [ -5.96070958,   3.99201262,   6.47214495],\n",
       "       [ -3.74609473,   7.5037741 ,   4.8902203 ],\n",
       "       [ -4.07557669,   3.15827975,   7.17466421],\n",
       "       [ -5.86194499,   0.1874913 ,  -2.52458621],\n",
       "       [ -3.6859924 ,   8.3356891 ,   2.22443519],\n",
       "       [ -6.85482364,   5.79607878,   7.6819934 ],\n",
       "       [ -7.58403598,   3.004761  ,  -1.22015434],\n",
       "       [ -7.57617738,  -0.03891029,  -2.64407138],\n",
       "       [ -3.31651637,   8.57055733,   5.68382087],\n",
       "       [ -6.69352016,   2.42258839,  -3.51847134],\n",
       "       [  0.85678605,   0.8243512 ,  -9.24182016],\n",
       "       [ -5.79759684,   3.99975626,   5.28641819],\n",
       "       [ -5.93658855,   1.2452369 ,  -3.40986725],\n",
       "       [ -4.81755245,   4.40108636,   6.83159809],\n",
       "       [  0.65761885,   0.91624771, -10.18458517],\n",
       "       [ -6.8990797 ,   1.442703  ,  -2.93646595],\n",
       "       [ -6.16198043,   4.51338238,   3.94147281],\n",
       "       [ -9.30656147,   5.22810174,   6.85594634],\n",
       "       [ -4.60979657,  -0.55342616,  -1.20363936],\n",
       "       [ -0.4308995 ,   0.48011452,  -8.47545896],\n",
       "       [ -1.24100798,   6.80768835,   6.25733745],\n",
       "       [ -4.45269787,   0.38253576,  -2.76643451],\n",
       "       [ -7.03832316,   4.56563667,   6.9080243 ],\n",
       "       [  0.99429187,   0.87511711,  -9.99909683],\n",
       "       [ -1.77555971,   7.58043993,   5.62218201],\n",
       "       [ -4.54002269,   2.65918125,   5.37145495],\n",
       "       [ -6.58078547,   2.29931425,  -2.93273339],\n",
       "       [  1.35278283,   0.48747748,  -7.56765133],\n",
       "       [ -3.91187847,   7.43313357,   2.929836  ],\n",
       "       [ -8.40882774,   4.56913524,   5.60134675],\n",
       "       [ -3.70526371,   7.67655891,   3.77875777],\n",
       "       [ -8.9851875 ,  -0.30142123,  -2.21152295],\n",
       "       [  0.10866184,   1.36767526,  -9.41809448],\n",
       "       [ -7.65700277,   1.13777271,   7.33896645],\n",
       "       [  2.41199108,   1.03683306,  -9.20017913],\n",
       "       [ -4.86182198,   0.72780243,  -2.21886761],\n",
       "       [ -6.13431395,   4.96544332,   6.2300389 ],\n",
       "       [ -4.83013544,   7.29916859,   4.09592752],\n",
       "       [ -6.78944842,   3.99833476,   7.51229177],\n",
       "       [ -5.06684303,   2.11018941,  -3.39973453],\n",
       "       [ -5.67957773,  -0.25749199,  -3.63928183],\n",
       "       [  1.00918185,   2.44847681,  -9.46167595],\n",
       "       [ -5.43954882,   4.60333595,   7.00880287],\n",
       "       [ -7.42442678,   5.30835517,   6.86341624],\n",
       "       [  1.05699629,   0.55026047,  -9.12488396],\n",
       "       [ -4.61414699,   2.84723542,   6.45572701],\n",
       "       [ -2.51062981,   9.67125147,   3.11802357],\n",
       "       [  1.81046805,   2.37480989, -11.57172776],\n",
       "       [ -6.41333586,   7.84033462,   5.83806608],\n",
       "       [  1.01148144,   1.71601719,  -7.73679255],\n",
       "       [ -0.80584461,   2.02382964,  -9.04448516],\n",
       "       [ -8.20249087,   4.507669  ,   5.01040047],\n",
       "       [  1.16100188,   2.38907142,  -9.81875417],\n",
       "       [ -4.18060125,   1.11822017,  -3.08218192],\n",
       "       [ -6.8932309 ,   1.70785748,  -1.94220733],\n",
       "       [ -3.82708523,   7.65205366,   4.12240552],\n",
       "       [ -7.12044288,   4.64758461,   5.7025879 ],\n",
       "       [ -4.14807206,   9.30353569,   2.94397883],\n",
       "       [ -7.39003004,   2.67596248,   5.15308172],\n",
       "       [  1.62073713,  -0.05416228,  -9.92461083],\n",
       "       [  0.54946324,   0.5581557 ,  -7.88852506],\n",
       "       [  0.5815206 ,   2.06249948,  -9.07157495],\n",
       "       [ -7.76736493,   2.15307825,  -5.71460034],\n",
       "       [  0.16543782,   1.89916047,  -9.03802666],\n",
       "       [ -4.74679097,   1.71258291,  -2.31109587],\n",
       "       [  0.47499933,   0.9339037 ,  -8.87174606],\n",
       "       [ -6.26974929,   0.89586837,  -1.66233771],\n",
       "       [  0.57115017,   2.27751662, -10.99144692],\n",
       "       [ -1.0016875 ,   1.45481168,  -9.84157087],\n",
       "       [ -3.82920136,  10.76050933,   4.73583461],\n",
       "       [ -2.85967341,   9.54127249,   5.91102494],\n",
       "       [  0.0760756 ,   0.83523148,  -9.19351984],\n",
       "       [ -8.10996848,  -0.18210364,  -3.84804348],\n",
       "       [ -6.40192863,   2.93960956,   7.64023642],\n",
       "       [ -0.61543385,   1.89810338,  -9.54728879],\n",
       "       [ -4.66453773,  -0.80998015,  -5.1072721 ],\n",
       "       [ -5.95090888,   1.65297671,   6.51129114],\n",
       "       [ -6.05573415,   2.7773348 ,   7.52484115],\n",
       "       [  1.93475242,   0.29764177, -10.81589403],\n",
       "       [ -3.99158913,   9.42338738,   5.6735258 ],\n",
       "       [ -5.6490417 ,   5.05467716,   6.30007576],\n",
       "       [ -6.47593889,   4.94635225,   5.58024423],\n",
       "       [ -1.3503111 ,   1.74732484,  -9.962986  ],\n",
       "       [ -1.25943551,   7.25970963,   2.71591463],\n",
       "       [ -4.37496652,   0.11060637,  -3.74095996],\n",
       "       [ -4.43108632,   0.59156501,  -3.82412689],\n",
       "       [ -7.34160752,   3.671108  ,   7.36634568],\n",
       "       [ -2.72850594,   6.95403999,   3.13988534],\n",
       "       [ -0.65480344,   3.64490698, -10.40190804],\n",
       "       [  1.1112886 ,   0.704398  ,  -8.84366818],\n",
       "       [  0.32833903,   2.43933589,  -9.58711337],\n",
       "       [ -4.35559308,   7.94403157,   3.13931805],\n",
       "       [ -6.07124925,   1.52769373,  -1.02153996],\n",
       "       [ -7.40407091,   0.16691395,  -2.69381775],\n",
       "       [ -7.56358517,   3.5736335 ,   5.34284552],\n",
       "       [ -5.85711826,   1.36312667,  -2.59858904],\n",
       "       [  0.72143331,   0.7828451 , -10.82880515],\n",
       "       [ -4.71837189,   7.49876641,   4.41490247],\n",
       "       [ -7.60544065,   0.55475147,  -3.98210754],\n",
       "       [ -8.68467997,   3.42602942,   7.74064767],\n",
       "       [ -4.10827145,   7.07358154,   4.24156766],\n",
       "       [  2.44569994,   1.61087572,  -7.12752821],\n",
       "       [ -3.52004149,   6.63820408,   3.48535428],\n",
       "       [ -3.27516292,   7.6903579 ,   3.82764177],\n",
       "       [ -6.84997761,  -0.22376273,  -3.64655162],\n",
       "       [ -1.29337527,   2.09088685,  -9.40440999],\n",
       "       [ -7.80518114,   2.90711167,   7.43205869],\n",
       "       [ -1.19436032,   2.54705473,  -8.90232874],\n",
       "       [ -2.60020017,   9.22406864,   4.68806012],\n",
       "       [ -6.50427188,   0.19373822,  -4.75010802],\n",
       "       [ -5.2938062 ,   7.086275  ,   5.41204668],\n",
       "       [  0.29639341,   2.06317757,  -7.27566903],\n",
       "       [ -6.53335908,   2.20420042,  -1.68731151],\n",
       "       [ -7.01543966,   4.3914134 ,   9.46294692],\n",
       "       [ -4.57134261,   8.73590711,   3.70413658],\n",
       "       [ -0.2822863 ,   0.6580264 ,  -9.77693397],\n",
       "       [ -3.21554323,   7.57462451,   5.18661943],\n",
       "       [ -4.49937657,   9.22361841,   4.66063159],\n",
       "       [ -6.35533268,   3.46502969,   5.25698778],\n",
       "       [ -5.69865986,   5.29135203,   7.60759509],\n",
       "       [ -6.24790729,   4.71286377,   7.00772091],\n",
       "       [ -7.37241005,   3.45206025,   6.768636  ],\n",
       "       [  1.7353108 ,   2.05515725, -10.33561537],\n",
       "       [ -6.68562882,   0.54047289,  -3.29283025],\n",
       "       [ -3.58384998,   7.31872669,   4.57291823],\n",
       "       [ -4.0059069 ,   7.885781  ,   2.27438958],\n",
       "       [ -5.04581642,   4.99576956,   5.19961789],\n",
       "       [ -7.63261577,   3.58015883,   5.73234913],\n",
       "       [ -3.7997048 ,   6.32986887,   3.60976766],\n",
       "       [ -6.91624638,   2.22732698,  -2.27844479],\n",
       "       [ -3.44326378,   9.14553095,   3.23617791],\n",
       "       [ -0.66529095,   1.61015124, -10.56716006],\n",
       "       [ -2.69437101,   9.12321486,   4.0387641 ],\n",
       "       [ -6.47735956,   1.08358797,  -2.82703865],\n",
       "       [ -0.06318407,   2.4416449 , -11.40312057],\n",
       "       [ -4.43238712,   9.29570954,   2.67805268],\n",
       "       [  1.13567847,   1.48631141,  -8.79172846],\n",
       "       [ -2.92055534,   8.61848281,   4.28961101],\n",
       "       [ -4.02507745,   1.07368962,  -5.29458876],\n",
       "       [ -6.288067  ,   0.73388766,  -1.40961875],\n",
       "       [ -4.08246777,   2.34784722,  -2.4203961 ],\n",
       "       [ -4.67758185,   7.9945482 ,   3.00411871],\n",
       "       [ -7.55471973,   3.55026388,   5.66470924],\n",
       "       [ -3.86955192,   7.80015082,   5.72342224],\n",
       "       [ -7.19637228,   3.31445067,   8.4214142 ],\n",
       "       [ -3.30788129,   7.68175045,   4.6624864 ],\n",
       "       [ -3.11869951,   8.97181186,   3.40537805]])"
      ]
     },
     "execution_count": 7,
     "metadata": {},
     "output_type": "execute_result"
    }
   ],
   "source": [
    "X"
   ]
  },
  {
   "cell_type": "markdown",
   "metadata": {},
   "source": [
    "### plotting the points"
   ]
  },
  {
   "cell_type": "code",
   "execution_count": 64,
   "metadata": {},
   "outputs": [
    {
     "data": {
      "text/plain": [
       "<matplotlib.collections.PathCollection at 0x2c2ba378198>"
      ]
     },
     "execution_count": 64,
     "metadata": {},
     "output_type": "execute_result"
    },
    {
     "data": {
      "image/png": "[encoded data removed]",
      "text/plain": [
       "<Figure size 432x288 with 1 Axes>"
      ]
     },
     "metadata": {
      "needs_background": "light"
     },
     "output_type": "display_data"
    }
   ],
   "source": [
    "plt.scatter(X[:,0],X[:,1],\n",
    "            c='white',\n",
    "            marker ='o', \n",
    "            edgecolors='black', s = 50)"
   ]
  },
  {
   "cell_type": "code",
   "execution_count": 8,
   "metadata": {},
   "outputs": [
    {
     "data": {
      "text/plain": [
       "array([-5.90839021,  1.41031774, -4.21827226])"
      ]
     },
     "execution_count": 8,
     "metadata": {},
     "output_type": "execute_result"
    }
   ],
   "source": [
    "X[0]"
   ]
  },
  {
   "cell_type": "markdown",
   "metadata": {},
   "source": [
    "### K-means Clustering "
   ]
  },
  {
   "cell_type": "code",
   "execution_count": 18,
   "metadata": {},
   "outputs": [],
   "source": [
    "from sklearn.cluster import KMeans"
   ]
  },
  {
   "cell_type": "code",
   "execution_count": 20,
   "metadata": {},
   "outputs": [
    {
     "data": {
      "text/plain": [
       "array([[-6.57156694,  9.94725278,  1.60455392, ...,  0.40966697,\n",
       "         7.75572708,  6.30519041],\n",
       "       [ 3.84791679, -7.87589332,  0.43563017, ...,  7.95491885,\n",
       "         9.5865624 , -6.11800296],\n",
       "       [-0.14078373,  2.27344877, -9.20042843, ...,  6.51129114,\n",
       "        -4.30654839,  8.55813536],\n",
       "       ...,\n",
       "       [-7.50416814, 10.94296178, -0.04319614, ...,  1.5831245 ,\n",
       "         7.67621621,  6.58109279],\n",
       "       [-6.96186546,  9.068447  ,  0.87629908, ...,  2.3532571 ,\n",
       "         9.22259209,  5.30729048],\n",
       "       [-6.99572027, 11.26107424, -1.24131369, ...,  2.31884759,\n",
       "         8.12570843,  6.0432273 ]])"
      ]
     },
     "execution_count": 20,
     "metadata": {},
     "output_type": "execute_result"
    }
   ],
   "source": [
    "X"
   ]
  },
  {
   "cell_type": "code",
   "execution_count": 21,
   "metadata": {},
   "outputs": [
    {
     "data": {
      "text/plain": [
       "numpy.ndarray"
      ]
     },
     "execution_count": 21,
     "metadata": {},
     "output_type": "execute_result"
    }
   ],
   "source": [
    "type(X)"
   ]
  },
  {
   "cell_type": "code",
   "execution_count": 14,
   "metadata": {},
   "outputs": [],
   "source": [
    "kmeans = KMeans(n_clusters = 4)"
   ]
  },
  {
   "cell_type": "code",
   "execution_count": 15,
   "metadata": {},
   "outputs": [
    {
     "data": {
      "text/plain": [
       "KMeans(algorithm='auto', copy_x=True, init='k-means++', max_iter=300,\n",
       "       n_clusters=4, n_init=10, n_jobs=None, precompute_distances='auto',\n",
       "       random_state=None, tol=0.0001, verbose=0)"
      ]
     },
     "execution_count": 15,
     "metadata": {},
     "output_type": "execute_result"
    }
   ],
   "source": [
    "kmeans.fit(X)"
   ]
  },
  {
   "cell_type": "code",
   "execution_count": 17,
   "metadata": {},
   "outputs": [
    {
     "data": {
      "text/plain": [
       "array([3, 2, 1, 1, 2, 2, 3, 1, 1, 0, 2, 3, 3, 2, 0, 1, 1, 1, 1, 2, 0, 1,\n",
       "       1, 1, 1, 1, 1, 3, 3, 1, 0, 0, 3, 0, 0, 0, 1, 2, 2, 2, 2, 0, 0, 1,\n",
       "       2, 0, 0, 2, 3, 3, 0, 0, 2, 1, 0, 2, 3, 0, 3, 0, 2, 1, 1, 3, 1, 0,\n",
       "       1, 1, 2, 3, 0, 3, 1, 0, 3, 0, 1, 3, 3, 2, 2, 3, 3, 1, 2, 2, 0, 0,\n",
       "       0, 2, 3, 1, 0, 0, 3, 3, 2, 0, 1, 1, 3, 2, 0, 1, 2, 3, 1, 3, 2, 2,\n",
       "       2, 1, 0, 3, 0, 3, 2, 3, 3, 2, 1, 1, 3, 0, 3, 2, 0, 0, 2, 2, 1, 1,\n",
       "       0, 0, 0, 3, 1, 2, 2, 3, 3, 1, 3, 2, 2, 1, 2, 2, 1, 3, 1, 0, 0, 0,\n",
       "       2, 1, 2, 1, 3, 0, 2, 1, 3, 0, 1, 3, 0, 3, 1, 2, 0, 3, 1, 0, 2, 3,\n",
       "       2, 0, 2, 2, 3, 2, 3, 3, 2, 0, 1, 0, 3, 0, 1, 1, 3, 0, 2, 2, 0, 3,\n",
       "       3, 3])"
      ]
     },
     "execution_count": 17,
     "metadata": {},
     "output_type": "execute_result"
    }
   ],
   "source": [
    "kmeans.fit_predict(X)"
   ]
  },
  {
   "cell_type": "code",
   "execution_count": 31,
   "metadata": {},
   "outputs": [],
   "source": [
    "# fit predict generates the points for each \n",
    "km_fit = kmeans.fit_predict(X)"
   ]
  },
  {
   "cell_type": "code",
   "execution_count": 37,
   "metadata": {},
   "outputs": [
    {
     "data": {
      "text/plain": [
       "array([3, 2, 0, 2, 2, 1, 2, 0, 2, 0, 3, 0, 2, 2, 3, 0, 2, 0, 1, 3, 1, 0,\n",
       "       0, 1, 3, 1, 1, 0, 2, 2, 3, 1, 2, 0, 0, 3, 1, 1, 1, 2, 1, 3, 3, 3,\n",
       "       0, 3, 3, 0, 1, 2, 0, 3, 2, 0, 1, 3, 0, 0, 3, 2, 1, 2, 1, 3, 2, 0,\n",
       "       1, 2, 2, 1, 2, 0, 1, 3, 1, 2, 2, 0, 3, 0, 0, 1, 2, 1, 0, 0, 0, 3,\n",
       "       2, 1, 1, 1, 1, 3, 0, 1, 2, 3, 1, 2, 0, 1, 0, 0, 2, 0, 1, 2, 1, 1,\n",
       "       0, 3, 3, 2, 1, 2, 3, 3, 2, 3, 0, 3, 0, 3, 0, 2, 3, 0, 1, 3, 3, 3,\n",
       "       0, 1, 1, 3, 2, 3, 2, 0, 1, 2, 1, 3, 3, 2, 0, 1, 3, 3, 3, 3, 0, 2,\n",
       "       0, 3, 2, 2, 2, 0, 2, 0, 0, 3, 1, 3, 0, 2, 3, 0, 2, 0, 3, 3, 0, 3,\n",
       "       2, 2, 1, 2, 3, 1, 1, 3, 1, 1, 1, 1, 1, 0, 1, 2, 2, 3, 1, 0, 2, 2,\n",
       "       1, 0])"
      ]
     },
     "execution_count": 37,
     "metadata": {},
     "output_type": "execute_result"
    }
   ],
   "source": [
    "km_fit"
   ]
  },
  {
   "cell_type": "code",
   "execution_count": 38,
   "metadata": {},
   "outputs": [
    {
     "data": {
      "image/png": "[encoded data removed]",
      "text/plain": [
       "<Figure size 432x288 with 1 Axes>"
      ]
     },
     "metadata": {
      "needs_background": "light"
     },
     "output_type": "display_data"
    }
   ],
   "source": [
    "plt.scatter(\n",
    "    X[km_fit == 0, 0], X[km_fit == 0, 1],\n",
    "    s=50, c='lightgreen',\n",
    "    marker='s', edgecolor='black',\n",
    "    label='cluster 1'\n",
    ")\n",
    "\n",
    "plt.scatter(\n",
    "    X[km_fit == 1, 0], X[km_fit == 1, 1],\n",
    "    s=50, c='orange',\n",
    "    marker='o', edgecolor='black',\n",
    "    label='cluster 2'\n",
    ")\n",
    "\n",
    "plt.scatter(\n",
    "    X[km_fit == 2, 0], X[km_fit == 2, 1],\n",
    "    s=50, c='lightblue',\n",
    "    marker='v', edgecolor='black',\n",
    "    label='cluster 3'\n",
    ")\n",
    "\n",
    "plt.scatter(\n",
    "    X[km_fit == 3, 0], X[km_fit == 3, 1],\n",
    "    s=50, c='lightblue',\n",
    "    marker='x', edgecolor='black',\n",
    "    label='cluster 3'\n",
    ")\n",
    "\n",
    "\n",
    "\n",
    "\n",
    "# plot the centroids\n",
    "plt.scatter(\n",
    "    kmeans.cluster_centers_[:, 0], kmeans.cluster_centers_[:, 1],\n",
    "    s=250, marker='*',\n",
    "    c='red', edgecolor='black',\n",
    "    label='centroids'\n",
    ")\n",
    "plt.legend(scatterpoints=1)\n",
    "plt.grid()\n",
    "plt.show()"
   ]
  },
  {
   "cell_type": "markdown",
   "metadata": {},
   "source": [
    "### Elbow Method"
   ]
  },
  {
   "cell_type": "code",
   "execution_count": 42,
   "metadata": {},
   "outputs": [],
   "source": [
    "distortions = []\n",
    "\n",
    "for i in range(1,15):\n",
    "    kmeans = KMeans(n_clusters=i,\n",
    "                    init = 'random',\n",
    "                    n_init = 10, \n",
    "                    max_iter =300,\n",
    "                    tol = 1e-04,\n",
    "                    random_state = 0)\n",
    "    kmeans.fit(X)\n",
    "    distortions.append(kmeans.inertia_) "
   ]
  },
  {
   "cell_type": "code",
   "execution_count": 49,
   "metadata": {},
   "outputs": [
    {
     "data": {
      "image/png": "[encoded data removed]",
      "text/plain": [
       "<Figure size 720x360 with 1 Axes>"
      ]
     },
     "metadata": {
      "needs_background": "light"
     },
     "output_type": "display_data"
    }
   ],
   "source": [
    "plt.figure(figsize=(10,5))\n",
    "plt.plot(range(1,15), distortions,  marker='o')\n",
    "plt.xlabel('Number of Clusters')\n",
    "plt.ylabel('Distortion')\n",
    "plt.show()"
   ]
  },
  {
   "cell_type": "code",
   "execution_count": 61,
   "metadata": {},
   "outputs": [
    {
     "data": {
      "text/plain": [
       "11"
      ]
     },
     "execution_count": 61,
     "metadata": {},
     "output_type": "execute_result"
    }
   ],
   "source": [
    "len(distortions[3:])"
   ]
  },
  {
   "cell_type": "code",
   "execution_count": 62,
   "metadata": {},
   "outputs": [
    {
     "data": {
      "text/plain": [
       "11"
      ]
     },
     "execution_count": 62,
     "metadata": {},
     "output_type": "execute_result"
    }
   ],
   "source": [
    "len(range(4,15))"
   ]
  },
  {
   "cell_type": "code",
   "execution_count": 60,
   "metadata": {},
   "outputs": [
    {
     "name": "stdout",
     "output_type": "stream",
     "text": [
      "0 11691.002720402423\n",
      "1 2926.3101867396645\n",
      "2 1378.7028816777733\n",
      "3 431.3120706980725\n",
      "4 386.86286358507635\n",
      "5 346.9282318360842\n",
      "6 308.3157293894167\n",
      "7 280.67444124586814\n",
      "8 252.40204588209508\n",
      "9 217.19339688997\n",
      "10 199.00664256711522\n",
      "11 185.7608390669427\n",
      "12 177.33574177389204\n",
      "13 162.7668908320491\n"
     ]
    }
   ],
   "source": [
    "for i,e in enumerate(distortions):\n",
    "    print(i,e)"
   ]
  },
  {
   "cell_type": "markdown",
   "metadata": {},
   "source": [
    "### adjusting to chose the number of clusters"
   ]
  },
  {
   "cell_type": "code",
   "execution_count": 63,
   "metadata": {},
   "outputs": [
    {
     "data": {
      "image/png": "[encoded data removed]",
      "text/plain": [
       "<Figure size 720x360 with 1 Axes>"
      ]
     },
     "metadata": {
      "needs_background": "light"
     },
     "output_type": "display_data"
    }
   ],
   "source": [
    "plt.figure(figsize=(10,5))\n",
    "plt.plot(range(4,15), distortions[3:],  marker='o')\n",
    "plt.xlabel('Number of Clusters')\n",
    "plt.ylabel('Distortion')\n",
    "plt.show()"
   ]
  }
 ],
 "metadata": {
  "kernelspec": {
   "display_name": "Python 3",
   "language": "python",
   "name": "python3"
  },
  "language_info": {
   "codemirror_mode": {
    "name": "ipython",
    "version": 3
   },
   "file_extension": ".py",
   "mimetype": "text/x-python",
   "name": "python",
   "nbconvert_exporter": "python",
   "pygments_lexer": "ipython3",
   "version": "3.7.3"
  }
 },
 "nbformat": 4,
 "nbformat_minor": 2
}
